{
 "cells": [
  {
   "cell_type": "code",
   "execution_count": null,
   "id": "04f0aca4",
   "metadata": {},
   "outputs": [],
   "source": [
    "هخلى الهماويد عبارة عن ليسته \n",
    "واعملها مع فور "
   ]
  },
  {
   "cell_type": "code",
   "execution_count": 33,
   "id": "88cad180",
   "metadata": {},
   "outputs": [],
   "source": [
    "import numpy as np \n",
    "import pandas as pd\n",
    "from sklearn.impute  import SimpleImputer\n",
    "from sklearn.preprocessing import LabelEncoder , OneHotEncoder\n",
    "from sklearn.model_selection import train_test_split\n",
    "from sklearn.preprocessing import StandardScaler\n",
    "from sklearn.compose import ColumnTransformer\n",
    "\n",
    "import seaborn as sns\n",
    "import matplotlib.pyplot as plt\n",
    "from sklearn import preprocessing, svm\n",
    "from sklearn.model_selection import train_test_split\n",
    "from sklearn.linear_model import LinearRegression\n"
   ]
  },
  {
   "cell_type": "code",
   "execution_count": 34,
   "id": "3043517f",
   "metadata": {},
   "outputs": [
    {
     "data": {
      "text/html": [
       "<div>\n",
       "<style scoped>\n",
       "    .dataframe tbody tr th:only-of-type {\n",
       "        vertical-align: middle;\n",
       "    }\n",
       "\n",
       "    .dataframe tbody tr th {\n",
       "        vertical-align: top;\n",
       "    }\n",
       "\n",
       "    .dataframe thead th {\n",
       "        text-align: right;\n",
       "    }\n",
       "</style>\n",
       "<table border=\"1\" class=\"dataframe\">\n",
       "  <thead>\n",
       "    <tr style=\"text-align: right;\">\n",
       "      <th></th>\n",
       "      <th>year</th>\n",
       "      <th>cylinders</th>\n",
       "      <th>displ</th>\n",
       "      <th>pv2</th>\n",
       "      <th>pv4</th>\n",
       "      <th>city</th>\n",
       "      <th>UCity</th>\n",
       "      <th>highway</th>\n",
       "      <th>UHighway</th>\n",
       "      <th>comb</th>\n",
       "      <th>co2</th>\n",
       "      <th>feScore</th>\n",
       "      <th>ghgScore</th>\n",
       "    </tr>\n",
       "  </thead>\n",
       "  <tbody>\n",
       "    <tr>\n",
       "      <th>0</th>\n",
       "      <td>2013</td>\n",
       "      <td>6</td>\n",
       "      <td>3.8</td>\n",
       "      <td>79.000000</td>\n",
       "      <td>98.581533</td>\n",
       "      <td>16.4596</td>\n",
       "      <td>20.2988</td>\n",
       "      <td>22.5568</td>\n",
       "      <td>30.1798</td>\n",
       "      <td>18.7389</td>\n",
       "      <td>471</td>\n",
       "      <td>4</td>\n",
       "      <td>4</td>\n",
       "    </tr>\n",
       "    <tr>\n",
       "      <th>1</th>\n",
       "      <td>2013</td>\n",
       "      <td>4</td>\n",
       "      <td>2.0</td>\n",
       "      <td>94.000000</td>\n",
       "      <td>98.581533</td>\n",
       "      <td>21.8706</td>\n",
       "      <td>26.9770</td>\n",
       "      <td>31.0367</td>\n",
       "      <td>42.4936</td>\n",
       "      <td>25.2227</td>\n",
       "      <td>349</td>\n",
       "      <td>6</td>\n",
       "      <td>6</td>\n",
       "    </tr>\n",
       "    <tr>\n",
       "      <th>2</th>\n",
       "      <td>2013</td>\n",
       "      <td>6</td>\n",
       "      <td>3.6</td>\n",
       "      <td>94.000000</td>\n",
       "      <td>98.581533</td>\n",
       "      <td>17.4935</td>\n",
       "      <td>21.2000</td>\n",
       "      <td>26.5716</td>\n",
       "      <td>35.1000</td>\n",
       "      <td>20.6716</td>\n",
       "      <td>429</td>\n",
       "      <td>5</td>\n",
       "      <td>5</td>\n",
       "    </tr>\n",
       "    <tr>\n",
       "      <th>3</th>\n",
       "      <td>2013</td>\n",
       "      <td>6</td>\n",
       "      <td>3.6</td>\n",
       "      <td>94.000000</td>\n",
       "      <td>98.581533</td>\n",
       "      <td>16.9415</td>\n",
       "      <td>20.5000</td>\n",
       "      <td>25.2190</td>\n",
       "      <td>33.5000</td>\n",
       "      <td>19.8774</td>\n",
       "      <td>446</td>\n",
       "      <td>5</td>\n",
       "      <td>5</td>\n",
       "    </tr>\n",
       "    <tr>\n",
       "      <th>4</th>\n",
       "      <td>2013</td>\n",
       "      <td>4</td>\n",
       "      <td>2.4</td>\n",
       "      <td>82.781834</td>\n",
       "      <td>95.000000</td>\n",
       "      <td>24.7726</td>\n",
       "      <td>31.9796</td>\n",
       "      <td>35.5340</td>\n",
       "      <td>51.8816</td>\n",
       "      <td>28.6813</td>\n",
       "      <td>310</td>\n",
       "      <td>8</td>\n",
       "      <td>8</td>\n",
       "    </tr>\n",
       "    <tr>\n",
       "      <th>...</th>\n",
       "      <td>...</td>\n",
       "      <td>...</td>\n",
       "      <td>...</td>\n",
       "      <td>...</td>\n",
       "      <td>...</td>\n",
       "      <td>...</td>\n",
       "      <td>...</td>\n",
       "      <td>...</td>\n",
       "      <td>...</td>\n",
       "      <td>...</td>\n",
       "      <td>...</td>\n",
       "      <td>...</td>\n",
       "      <td>...</td>\n",
       "    </tr>\n",
       "    <tr>\n",
       "      <th>3924</th>\n",
       "      <td>2018</td>\n",
       "      <td>4</td>\n",
       "      <td>1.8</td>\n",
       "      <td>82.781834</td>\n",
       "      <td>98.581533</td>\n",
       "      <td>55.2206</td>\n",
       "      <td>78.8197</td>\n",
       "      <td>53.0000</td>\n",
       "      <td>73.6525</td>\n",
       "      <td>54.4329</td>\n",
       "      <td>78</td>\n",
       "      <td>10</td>\n",
       "      <td>10</td>\n",
       "    </tr>\n",
       "    <tr>\n",
       "      <th>3925</th>\n",
       "      <td>2018</td>\n",
       "      <td>4</td>\n",
       "      <td>2.0</td>\n",
       "      <td>82.781834</td>\n",
       "      <td>106.000000</td>\n",
       "      <td>39.0000</td>\n",
       "      <td>55.9000</td>\n",
       "      <td>44.3066</td>\n",
       "      <td>64.0000</td>\n",
       "      <td>41.0000</td>\n",
       "      <td>217</td>\n",
       "      <td>9</td>\n",
       "      <td>9</td>\n",
       "    </tr>\n",
       "    <tr>\n",
       "      <th>3926</th>\n",
       "      <td>2018</td>\n",
       "      <td>4</td>\n",
       "      <td>2.0</td>\n",
       "      <td>82.781834</td>\n",
       "      <td>106.000000</td>\n",
       "      <td>40.0000</td>\n",
       "      <td>56.0000</td>\n",
       "      <td>46.0000</td>\n",
       "      <td>64.0000</td>\n",
       "      <td>42.0000</td>\n",
       "      <td>212</td>\n",
       "      <td>9</td>\n",
       "      <td>9</td>\n",
       "    </tr>\n",
       "    <tr>\n",
       "      <th>3927</th>\n",
       "      <td>2018</td>\n",
       "      <td>6</td>\n",
       "      <td>3.4</td>\n",
       "      <td>99.000000</td>\n",
       "      <td>98.581533</td>\n",
       "      <td>19.2200</td>\n",
       "      <td>24.2000</td>\n",
       "      <td>30.2863</td>\n",
       "      <td>43.4000</td>\n",
       "      <td>23.0021</td>\n",
       "      <td>387</td>\n",
       "      <td>5</td>\n",
       "      <td>5</td>\n",
       "    </tr>\n",
       "    <tr>\n",
       "      <th>3928</th>\n",
       "      <td>2018</td>\n",
       "      <td>6</td>\n",
       "      <td>3.4</td>\n",
       "      <td>99.000000</td>\n",
       "      <td>98.581533</td>\n",
       "      <td>18.0431</td>\n",
       "      <td>22.6000</td>\n",
       "      <td>27.0000</td>\n",
       "      <td>39.3000</td>\n",
       "      <td>21.3945</td>\n",
       "      <td>417</td>\n",
       "      <td>4</td>\n",
       "      <td>4</td>\n",
       "    </tr>\n",
       "  </tbody>\n",
       "</table>\n",
       "<p>3929 rows × 13 columns</p>\n",
       "</div>"
      ],
      "text/plain": [
       "      year  cylinders  displ        pv2         pv4     city    UCity  \\\n",
       "0     2013          6    3.8  79.000000   98.581533  16.4596  20.2988   \n",
       "1     2013          4    2.0  94.000000   98.581533  21.8706  26.9770   \n",
       "2     2013          6    3.6  94.000000   98.581533  17.4935  21.2000   \n",
       "3     2013          6    3.6  94.000000   98.581533  16.9415  20.5000   \n",
       "4     2013          4    2.4  82.781834   95.000000  24.7726  31.9796   \n",
       "...    ...        ...    ...        ...         ...      ...      ...   \n",
       "3924  2018          4    1.8  82.781834   98.581533  55.2206  78.8197   \n",
       "3925  2018          4    2.0  82.781834  106.000000  39.0000  55.9000   \n",
       "3926  2018          4    2.0  82.781834  106.000000  40.0000  56.0000   \n",
       "3927  2018          6    3.4  99.000000   98.581533  19.2200  24.2000   \n",
       "3928  2018          6    3.4  99.000000   98.581533  18.0431  22.6000   \n",
       "\n",
       "      highway  UHighway     comb  co2  feScore  ghgScore  \n",
       "0     22.5568   30.1798  18.7389  471        4         4  \n",
       "1     31.0367   42.4936  25.2227  349        6         6  \n",
       "2     26.5716   35.1000  20.6716  429        5         5  \n",
       "3     25.2190   33.5000  19.8774  446        5         5  \n",
       "4     35.5340   51.8816  28.6813  310        8         8  \n",
       "...       ...       ...      ...  ...      ...       ...  \n",
       "3924  53.0000   73.6525  54.4329   78       10        10  \n",
       "3925  44.3066   64.0000  41.0000  217        9         9  \n",
       "3926  46.0000   64.0000  42.0000  212        9         9  \n",
       "3927  30.2863   43.4000  23.0021  387        5         5  \n",
       "3928  27.0000   39.3000  21.3945  417        4         4  \n",
       "\n",
       "[3929 rows x 13 columns]"
      ]
     },
     "execution_count": 34,
     "metadata": {},
     "output_type": "execute_result"
    }
   ],
   "source": [
    "d=pd.read_csv(r\"C:\\Users\\eyosl\\Untitled Folder\\processed data of task1.csv\")\n",
    "d"
   ]
  },
  {
   "cell_type": "code",
   "execution_count": 35,
   "id": "c4cd158b",
   "metadata": {},
   "outputs": [],
   "source": [
    "x=d.drop(['ghgScore'],axis=1)\n",
    "y=d['ghgScore']"
   ]
  },
  {
   "cell_type": "code",
   "execution_count": 36,
   "id": "81dc4223",
   "metadata": {},
   "outputs": [
    {
     "data": {
      "text/html": [
       "<div>\n",
       "<style scoped>\n",
       "    .dataframe tbody tr th:only-of-type {\n",
       "        vertical-align: middle;\n",
       "    }\n",
       "\n",
       "    .dataframe tbody tr th {\n",
       "        vertical-align: top;\n",
       "    }\n",
       "\n",
       "    .dataframe thead th {\n",
       "        text-align: right;\n",
       "    }\n",
       "</style>\n",
       "<table border=\"1\" class=\"dataframe\">\n",
       "  <thead>\n",
       "    <tr style=\"text-align: right;\">\n",
       "      <th></th>\n",
       "      <th>year</th>\n",
       "      <th>cylinders</th>\n",
       "      <th>displ</th>\n",
       "      <th>pv2</th>\n",
       "      <th>pv4</th>\n",
       "      <th>city</th>\n",
       "      <th>UCity</th>\n",
       "      <th>highway</th>\n",
       "      <th>UHighway</th>\n",
       "      <th>comb</th>\n",
       "      <th>co2</th>\n",
       "      <th>feScore</th>\n",
       "    </tr>\n",
       "  </thead>\n",
       "  <tbody>\n",
       "    <tr>\n",
       "      <th>2330</th>\n",
       "      <td>2016</td>\n",
       "      <td>4</td>\n",
       "      <td>2.5</td>\n",
       "      <td>82.781834</td>\n",
       "      <td>105.000000</td>\n",
       "      <td>22.0000</td>\n",
       "      <td>30.0000</td>\n",
       "      <td>31.0000</td>\n",
       "      <td>47.7000</td>\n",
       "      <td>25.0000</td>\n",
       "      <td>354</td>\n",
       "      <td>6</td>\n",
       "    </tr>\n",
       "    <tr>\n",
       "      <th>2638</th>\n",
       "      <td>2017</td>\n",
       "      <td>3</td>\n",
       "      <td>1.2</td>\n",
       "      <td>82.781834</td>\n",
       "      <td>90.000000</td>\n",
       "      <td>32.6414</td>\n",
       "      <td>43.7032</td>\n",
       "      <td>39.7448</td>\n",
       "      <td>58.9226</td>\n",
       "      <td>35.4962</td>\n",
       "      <td>249</td>\n",
       "      <td>8</td>\n",
       "    </tr>\n",
       "    <tr>\n",
       "      <th>3189</th>\n",
       "      <td>2017</td>\n",
       "      <td>6</td>\n",
       "      <td>3.0</td>\n",
       "      <td>79.000000</td>\n",
       "      <td>98.581533</td>\n",
       "      <td>19.8767</td>\n",
       "      <td>25.1000</td>\n",
       "      <td>28.0626</td>\n",
       "      <td>39.9000</td>\n",
       "      <td>22.8801</td>\n",
       "      <td>389</td>\n",
       "      <td>5</td>\n",
       "    </tr>\n",
       "    <tr>\n",
       "      <th>1922</th>\n",
       "      <td>2015</td>\n",
       "      <td>8</td>\n",
       "      <td>5.0</td>\n",
       "      <td>82.781834</td>\n",
       "      <td>102.000000</td>\n",
       "      <td>18.5788</td>\n",
       "      <td>24.7000</td>\n",
       "      <td>23.2848</td>\n",
       "      <td>30.3000</td>\n",
       "      <td>20.4375</td>\n",
       "      <td>432</td>\n",
       "      <td>5</td>\n",
       "    </tr>\n",
       "    <tr>\n",
       "      <th>3595</th>\n",
       "      <td>2018</td>\n",
       "      <td>6</td>\n",
       "      <td>3.5</td>\n",
       "      <td>82.781834</td>\n",
       "      <td>104.000000</td>\n",
       "      <td>28.0777</td>\n",
       "      <td>36.8000</td>\n",
       "      <td>33.0331</td>\n",
       "      <td>47.7998</td>\n",
       "      <td>30.1103</td>\n",
       "      <td>296</td>\n",
       "      <td>7</td>\n",
       "    </tr>\n",
       "    <tr>\n",
       "      <th>...</th>\n",
       "      <td>...</td>\n",
       "      <td>...</td>\n",
       "      <td>...</td>\n",
       "      <td>...</td>\n",
       "      <td>...</td>\n",
       "      <td>...</td>\n",
       "      <td>...</td>\n",
       "      <td>...</td>\n",
       "      <td>...</td>\n",
       "      <td>...</td>\n",
       "      <td>...</td>\n",
       "      <td>...</td>\n",
       "    </tr>\n",
       "    <tr>\n",
       "      <th>1130</th>\n",
       "      <td>2014</td>\n",
       "      <td>3</td>\n",
       "      <td>1.2</td>\n",
       "      <td>82.781834</td>\n",
       "      <td>86.000000</td>\n",
       "      <td>33.1238</td>\n",
       "      <td>44.4503</td>\n",
       "      <td>40.7940</td>\n",
       "      <td>60.7107</td>\n",
       "      <td>36.1855</td>\n",
       "      <td>243</td>\n",
       "      <td>9</td>\n",
       "    </tr>\n",
       "    <tr>\n",
       "      <th>1294</th>\n",
       "      <td>2014</td>\n",
       "      <td>4</td>\n",
       "      <td>2.0</td>\n",
       "      <td>88.000000</td>\n",
       "      <td>98.581533</td>\n",
       "      <td>22.9011</td>\n",
       "      <td>29.3140</td>\n",
       "      <td>32.7919</td>\n",
       "      <td>47.4100</td>\n",
       "      <td>26.4976</td>\n",
       "      <td>335</td>\n",
       "      <td>7</td>\n",
       "    </tr>\n",
       "    <tr>\n",
       "      <th>860</th>\n",
       "      <td>2014</td>\n",
       "      <td>8</td>\n",
       "      <td>4.2</td>\n",
       "      <td>81.000000</td>\n",
       "      <td>98.581533</td>\n",
       "      <td>15.8793</td>\n",
       "      <td>19.2000</td>\n",
       "      <td>22.1836</td>\n",
       "      <td>28.9000</td>\n",
       "      <td>18.2078</td>\n",
       "      <td>486</td>\n",
       "      <td>4</td>\n",
       "    </tr>\n",
       "    <tr>\n",
       "      <th>3507</th>\n",
       "      <td>2018</td>\n",
       "      <td>6</td>\n",
       "      <td>3.0</td>\n",
       "      <td>82.781834</td>\n",
       "      <td>96.000000</td>\n",
       "      <td>17.3650</td>\n",
       "      <td>21.6857</td>\n",
       "      <td>23.7388</td>\n",
       "      <td>33.2484</td>\n",
       "      <td>19.7514</td>\n",
       "      <td>450</td>\n",
       "      <td>4</td>\n",
       "    </tr>\n",
       "    <tr>\n",
       "      <th>3174</th>\n",
       "      <td>2017</td>\n",
       "      <td>8</td>\n",
       "      <td>6.4</td>\n",
       "      <td>82.781834</td>\n",
       "      <td>105.000000</td>\n",
       "      <td>15.0462</td>\n",
       "      <td>18.6000</td>\n",
       "      <td>24.6279</td>\n",
       "      <td>34.6000</td>\n",
       "      <td>18.2395</td>\n",
       "      <td>486</td>\n",
       "      <td>3</td>\n",
       "    </tr>\n",
       "  </tbody>\n",
       "</table>\n",
       "<p>3143 rows × 12 columns</p>\n",
       "</div>"
      ],
      "text/plain": [
       "      year  cylinders  displ        pv2         pv4     city    UCity  \\\n",
       "2330  2016          4    2.5  82.781834  105.000000  22.0000  30.0000   \n",
       "2638  2017          3    1.2  82.781834   90.000000  32.6414  43.7032   \n",
       "3189  2017          6    3.0  79.000000   98.581533  19.8767  25.1000   \n",
       "1922  2015          8    5.0  82.781834  102.000000  18.5788  24.7000   \n",
       "3595  2018          6    3.5  82.781834  104.000000  28.0777  36.8000   \n",
       "...    ...        ...    ...        ...         ...      ...      ...   \n",
       "1130  2014          3    1.2  82.781834   86.000000  33.1238  44.4503   \n",
       "1294  2014          4    2.0  88.000000   98.581533  22.9011  29.3140   \n",
       "860   2014          8    4.2  81.000000   98.581533  15.8793  19.2000   \n",
       "3507  2018          6    3.0  82.781834   96.000000  17.3650  21.6857   \n",
       "3174  2017          8    6.4  82.781834  105.000000  15.0462  18.6000   \n",
       "\n",
       "      highway  UHighway     comb  co2  feScore  \n",
       "2330  31.0000   47.7000  25.0000  354        6  \n",
       "2638  39.7448   58.9226  35.4962  249        8  \n",
       "3189  28.0626   39.9000  22.8801  389        5  \n",
       "1922  23.2848   30.3000  20.4375  432        5  \n",
       "3595  33.0331   47.7998  30.1103  296        7  \n",
       "...       ...       ...      ...  ...      ...  \n",
       "1130  40.7940   60.7107  36.1855  243        9  \n",
       "1294  32.7919   47.4100  26.4976  335        7  \n",
       "860   22.1836   28.9000  18.2078  486        4  \n",
       "3507  23.7388   33.2484  19.7514  450        4  \n",
       "3174  24.6279   34.6000  18.2395  486        3  \n",
       "\n",
       "[3143 rows x 12 columns]"
      ]
     },
     "execution_count": 36,
     "metadata": {},
     "output_type": "execute_result"
    }
   ],
   "source": [
    "x_train,x_test,y_train,y_test=train_test_split(x,y,test_size=0.2,random_state=42)\n",
    "\n",
    "x_train\n"
   ]
  },
  {
   "cell_type": "code",
   "execution_count": 37,
   "id": "9c17d4ae",
   "metadata": {},
   "outputs": [
    {
     "data": {
      "text/plain": [
       "2330    6\n",
       "2638    8\n",
       "3189    5\n",
       "1922    5\n",
       "3595    7\n",
       "       ..\n",
       "1130    9\n",
       "1294    7\n",
       "860     4\n",
       "3507    4\n",
       "3174    3\n",
       "Name: ghgScore, Length: 3143, dtype: int64"
      ]
     },
     "execution_count": 37,
     "metadata": {},
     "output_type": "execute_result"
    }
   ],
   "source": [
    "y_train"
   ]
  },
  {
   "cell_type": "code",
   "execution_count": 38,
   "id": "84de37a4",
   "metadata": {},
   "outputs": [
    {
     "data": {
      "text/plain": [
       "array([[ 0.2825411 , -0.77509451, -0.33724667, ...,  0.02021862,\n",
       "        -0.23180539,  0.17960821],\n",
       "       [ 0.87653887, -1.30839618, -1.33094119, ...,  1.76029106,\n",
       "        -1.37069558,  1.31658428],\n",
       "       [ 0.87653887,  0.29150884,  0.04494352, ..., -0.33122091,\n",
       "         0.14782468, -0.38887982],\n",
       "       ...,\n",
       "       [-0.90545445,  1.35811218,  0.9622    , ..., -1.10580032,\n",
       "         1.19994229, -0.95736785],\n",
       "       [ 1.47053664,  0.29150884,  0.04494352, ..., -0.84990049,\n",
       "         0.80946565, -0.95736785],\n",
       "       [ 0.87653887,  1.35811218,  2.64383687, ..., -1.10054506,\n",
       "         1.19994229, -1.52585588]])"
      ]
     },
     "execution_count": 38,
     "metadata": {},
     "output_type": "execute_result"
    }
   ],
   "source": [
    "scalar=StandardScaler()\n",
    "x_train_sc=scalar.fit_transform(x_train)\n",
    "x_test_sc=scalar.fit_transform(x_test)\n",
    "x_train_sc"
   ]
  },
  {
   "cell_type": "code",
   "execution_count": 72,
   "id": "48e88652",
   "metadata": {},
   "outputs": [
    {
     "name": "stdout",
     "output_type": "stream",
     "text": [
      "0.9899828065877275\n"
     ]
    }
   ],
   "source": [
    "d_reg=LinearRegression()\n",
    "d_reg.fit(x_train_sc,y_train)\n",
    "print(d_reg.score(x_test_sc,y_test))"
   ]
  },
  {
   "cell_type": "code",
   "execution_count": 60,
   "id": "8cb69ae5",
   "metadata": {},
   "outputs": [
    {
     "data": {
      "text/plain": [
       "37716"
      ]
     },
     "execution_count": 60,
     "metadata": {},
     "output_type": "execute_result"
    }
   ],
   "source": [
    "x_train_sc.reshape(-1,1)\n",
    "x_train_sc.size"
   ]
  },
  {
   "cell_type": "code",
   "execution_count": 63,
   "id": "38a2b742",
   "metadata": {},
   "outputs": [
    {
     "data": {
      "text/plain": [
       "3143"
      ]
     },
     "execution_count": 63,
     "metadata": {},
     "output_type": "execute_result"
    }
   ],
   "source": [
    "y_train.values.reshape(-1,1)\n",
    "y_train.size"
   ]
  },
  {
   "cell_type": "code",
   "execution_count": 64,
   "id": "ef3d4197",
   "metadata": {},
   "outputs": [
    {
     "data": {
      "text/plain": [
       "(3143, 12)"
      ]
     },
     "execution_count": 64,
     "metadata": {},
     "output_type": "execute_result"
    }
   ],
   "source": [
    "x_train.shape"
   ]
  },
  {
   "cell_type": "code",
   "execution_count": 65,
   "id": "a71d8815",
   "metadata": {},
   "outputs": [
    {
     "data": {
      "text/plain": [
       "(3143,)"
      ]
     },
     "execution_count": 65,
     "metadata": {},
     "output_type": "execute_result"
    }
   ],
   "source": [
    "y_train.shape"
   ]
  },
  {
   "cell_type": "code",
   "execution_count": 57,
   "id": "1dbdcd83",
   "metadata": {},
   "outputs": [
    {
     "ename": "ValueError",
     "evalue": "x and y must be the same size",
     "output_type": "error",
     "traceback": [
      "\u001b[1;31m---------------------------------------------------------------------------\u001b[0m",
      "\u001b[1;31mValueError\u001b[0m                                Traceback (most recent call last)",
      "\u001b[1;32m~\\AppData\\Local\\Temp\\ipykernel_22132\\1249174692.py\u001b[0m in \u001b[0;36m<module>\u001b[1;34m\u001b[0m\n\u001b[1;32m----> 1\u001b[1;33m \u001b[0mplt\u001b[0m\u001b[1;33m.\u001b[0m\u001b[0mscatter\u001b[0m\u001b[1;33m(\u001b[0m\u001b[0mx_train_sc\u001b[0m\u001b[1;33m,\u001b[0m\u001b[0my_train\u001b[0m\u001b[1;33m)\u001b[0m\u001b[1;33m\u001b[0m\u001b[1;33m\u001b[0m\u001b[0m\n\u001b[0m",
      "\u001b[1;32m~\\anaconda3\\lib\\site-packages\\matplotlib\\pyplot.py\u001b[0m in \u001b[0;36mscatter\u001b[1;34m(x, y, s, c, marker, cmap, norm, vmin, vmax, alpha, linewidths, edgecolors, plotnonfinite, data, **kwargs)\u001b[0m\n\u001b[0;32m   2817\u001b[0m         \u001b[0mvmin\u001b[0m\u001b[1;33m=\u001b[0m\u001b[1;32mNone\u001b[0m\u001b[1;33m,\u001b[0m \u001b[0mvmax\u001b[0m\u001b[1;33m=\u001b[0m\u001b[1;32mNone\u001b[0m\u001b[1;33m,\u001b[0m \u001b[0malpha\u001b[0m\u001b[1;33m=\u001b[0m\u001b[1;32mNone\u001b[0m\u001b[1;33m,\u001b[0m \u001b[0mlinewidths\u001b[0m\u001b[1;33m=\u001b[0m\u001b[1;32mNone\u001b[0m\u001b[1;33m,\u001b[0m \u001b[1;33m*\u001b[0m\u001b[1;33m,\u001b[0m\u001b[1;33m\u001b[0m\u001b[1;33m\u001b[0m\u001b[0m\n\u001b[0;32m   2818\u001b[0m         edgecolors=None, plotnonfinite=False, data=None, **kwargs):\n\u001b[1;32m-> 2819\u001b[1;33m     __ret = gca().scatter(\n\u001b[0m\u001b[0;32m   2820\u001b[0m         \u001b[0mx\u001b[0m\u001b[1;33m,\u001b[0m \u001b[0my\u001b[0m\u001b[1;33m,\u001b[0m \u001b[0ms\u001b[0m\u001b[1;33m=\u001b[0m\u001b[0ms\u001b[0m\u001b[1;33m,\u001b[0m \u001b[0mc\u001b[0m\u001b[1;33m=\u001b[0m\u001b[0mc\u001b[0m\u001b[1;33m,\u001b[0m \u001b[0mmarker\u001b[0m\u001b[1;33m=\u001b[0m\u001b[0mmarker\u001b[0m\u001b[1;33m,\u001b[0m \u001b[0mcmap\u001b[0m\u001b[1;33m=\u001b[0m\u001b[0mcmap\u001b[0m\u001b[1;33m,\u001b[0m \u001b[0mnorm\u001b[0m\u001b[1;33m=\u001b[0m\u001b[0mnorm\u001b[0m\u001b[1;33m,\u001b[0m\u001b[1;33m\u001b[0m\u001b[1;33m\u001b[0m\u001b[0m\n\u001b[0;32m   2821\u001b[0m         \u001b[0mvmin\u001b[0m\u001b[1;33m=\u001b[0m\u001b[0mvmin\u001b[0m\u001b[1;33m,\u001b[0m \u001b[0mvmax\u001b[0m\u001b[1;33m=\u001b[0m\u001b[0mvmax\u001b[0m\u001b[1;33m,\u001b[0m \u001b[0malpha\u001b[0m\u001b[1;33m=\u001b[0m\u001b[0malpha\u001b[0m\u001b[1;33m,\u001b[0m \u001b[0mlinewidths\u001b[0m\u001b[1;33m=\u001b[0m\u001b[0mlinewidths\u001b[0m\u001b[1;33m,\u001b[0m\u001b[1;33m\u001b[0m\u001b[1;33m\u001b[0m\u001b[0m\n",
      "\u001b[1;32m~\\anaconda3\\lib\\site-packages\\matplotlib\\__init__.py\u001b[0m in \u001b[0;36minner\u001b[1;34m(ax, data, *args, **kwargs)\u001b[0m\n\u001b[0;32m   1410\u001b[0m     \u001b[1;32mdef\u001b[0m \u001b[0minner\u001b[0m\u001b[1;33m(\u001b[0m\u001b[0max\u001b[0m\u001b[1;33m,\u001b[0m \u001b[1;33m*\u001b[0m\u001b[0margs\u001b[0m\u001b[1;33m,\u001b[0m \u001b[0mdata\u001b[0m\u001b[1;33m=\u001b[0m\u001b[1;32mNone\u001b[0m\u001b[1;33m,\u001b[0m \u001b[1;33m**\u001b[0m\u001b[0mkwargs\u001b[0m\u001b[1;33m)\u001b[0m\u001b[1;33m:\u001b[0m\u001b[1;33m\u001b[0m\u001b[1;33m\u001b[0m\u001b[0m\n\u001b[0;32m   1411\u001b[0m         \u001b[1;32mif\u001b[0m \u001b[0mdata\u001b[0m \u001b[1;32mis\u001b[0m \u001b[1;32mNone\u001b[0m\u001b[1;33m:\u001b[0m\u001b[1;33m\u001b[0m\u001b[1;33m\u001b[0m\u001b[0m\n\u001b[1;32m-> 1412\u001b[1;33m             \u001b[1;32mreturn\u001b[0m \u001b[0mfunc\u001b[0m\u001b[1;33m(\u001b[0m\u001b[0max\u001b[0m\u001b[1;33m,\u001b[0m \u001b[1;33m*\u001b[0m\u001b[0mmap\u001b[0m\u001b[1;33m(\u001b[0m\u001b[0msanitize_sequence\u001b[0m\u001b[1;33m,\u001b[0m \u001b[0margs\u001b[0m\u001b[1;33m)\u001b[0m\u001b[1;33m,\u001b[0m \u001b[1;33m**\u001b[0m\u001b[0mkwargs\u001b[0m\u001b[1;33m)\u001b[0m\u001b[1;33m\u001b[0m\u001b[1;33m\u001b[0m\u001b[0m\n\u001b[0m\u001b[0;32m   1413\u001b[0m \u001b[1;33m\u001b[0m\u001b[0m\n\u001b[0;32m   1414\u001b[0m         \u001b[0mbound\u001b[0m \u001b[1;33m=\u001b[0m \u001b[0mnew_sig\u001b[0m\u001b[1;33m.\u001b[0m\u001b[0mbind\u001b[0m\u001b[1;33m(\u001b[0m\u001b[0max\u001b[0m\u001b[1;33m,\u001b[0m \u001b[1;33m*\u001b[0m\u001b[0margs\u001b[0m\u001b[1;33m,\u001b[0m \u001b[1;33m**\u001b[0m\u001b[0mkwargs\u001b[0m\u001b[1;33m)\u001b[0m\u001b[1;33m\u001b[0m\u001b[1;33m\u001b[0m\u001b[0m\n",
      "\u001b[1;32m~\\anaconda3\\lib\\site-packages\\matplotlib\\axes\\_axes.py\u001b[0m in \u001b[0;36mscatter\u001b[1;34m(self, x, y, s, c, marker, cmap, norm, vmin, vmax, alpha, linewidths, edgecolors, plotnonfinite, **kwargs)\u001b[0m\n\u001b[0;32m   4360\u001b[0m         \u001b[0my\u001b[0m \u001b[1;33m=\u001b[0m \u001b[0mnp\u001b[0m\u001b[1;33m.\u001b[0m\u001b[0mma\u001b[0m\u001b[1;33m.\u001b[0m\u001b[0mravel\u001b[0m\u001b[1;33m(\u001b[0m\u001b[0my\u001b[0m\u001b[1;33m)\u001b[0m\u001b[1;33m\u001b[0m\u001b[1;33m\u001b[0m\u001b[0m\n\u001b[0;32m   4361\u001b[0m         \u001b[1;32mif\u001b[0m \u001b[0mx\u001b[0m\u001b[1;33m.\u001b[0m\u001b[0msize\u001b[0m \u001b[1;33m!=\u001b[0m \u001b[0my\u001b[0m\u001b[1;33m.\u001b[0m\u001b[0msize\u001b[0m\u001b[1;33m:\u001b[0m\u001b[1;33m\u001b[0m\u001b[1;33m\u001b[0m\u001b[0m\n\u001b[1;32m-> 4362\u001b[1;33m             \u001b[1;32mraise\u001b[0m \u001b[0mValueError\u001b[0m\u001b[1;33m(\u001b[0m\u001b[1;34m\"x and y must be the same size\"\u001b[0m\u001b[1;33m)\u001b[0m\u001b[1;33m\u001b[0m\u001b[1;33m\u001b[0m\u001b[0m\n\u001b[0m\u001b[0;32m   4363\u001b[0m \u001b[1;33m\u001b[0m\u001b[0m\n\u001b[0;32m   4364\u001b[0m         \u001b[1;32mif\u001b[0m \u001b[0ms\u001b[0m \u001b[1;32mis\u001b[0m \u001b[1;32mNone\u001b[0m\u001b[1;33m:\u001b[0m\u001b[1;33m\u001b[0m\u001b[1;33m\u001b[0m\u001b[0m\n",
      "\u001b[1;31mValueError\u001b[0m: x and y must be the same size"
     ]
    },
    {
     "data": {
      "image/png": "[encoded data removed]",
      "text/plain": [
       "<Figure size 640x480 with 1 Axes>"
      ]
     },
     "metadata": {},
     "output_type": "display_data"
    }
   ],
   "source": [
    "plt.scatter(x_train_sc,y_train)#مش عارفة احل المشكلة دى خالص"
   ]
  },
  {
   "cell_type": "code",
   "execution_count": 73,
   "id": "43e495ad",
   "metadata": {},
   "outputs": [
    {
     "ename": "ValueError",
     "evalue": "x and y must be the same size",
     "output_type": "error",
     "traceback": [
      "\u001b[1;31m---------------------------------------------------------------------------\u001b[0m",
      "\u001b[1;31mValueError\u001b[0m                                Traceback (most recent call last)",
      "\u001b[1;32m~\\AppData\\Local\\Temp\\ipykernel_22132\\2518642792.py\u001b[0m in \u001b[0;36m<module>\u001b[1;34m\u001b[0m\n\u001b[0;32m      1\u001b[0m \u001b[0my_pred\u001b[0m\u001b[1;33m=\u001b[0m\u001b[0md_reg\u001b[0m\u001b[1;33m.\u001b[0m\u001b[0mpredict\u001b[0m\u001b[1;33m(\u001b[0m\u001b[0mx_test_sc\u001b[0m\u001b[1;33m)\u001b[0m\u001b[1;33m\u001b[0m\u001b[1;33m\u001b[0m\u001b[0m\n\u001b[1;32m----> 2\u001b[1;33m \u001b[0mplt\u001b[0m\u001b[1;33m.\u001b[0m\u001b[0mscatter\u001b[0m\u001b[1;33m(\u001b[0m\u001b[0mx_test_sc\u001b[0m\u001b[1;33m,\u001b[0m\u001b[0my_test\u001b[0m\u001b[1;33m,\u001b[0m\u001b[0mcolor\u001b[0m\u001b[1;33m=\u001b[0m\u001b[1;34m'r'\u001b[0m\u001b[1;33m)\u001b[0m\u001b[1;33m\u001b[0m\u001b[1;33m\u001b[0m\u001b[0m\n\u001b[0m\u001b[0;32m      3\u001b[0m \u001b[0mplt\u001b[0m\u001b[1;33m.\u001b[0m\u001b[0mplot\u001b[0m\u001b[1;33m(\u001b[0m\u001b[0mx_test_sc\u001b[0m\u001b[1;33m,\u001b[0m\u001b[0my_pred\u001b[0m\u001b[1;33m,\u001b[0m\u001b[0mcolor\u001b[0m\u001b[1;33m=\u001b[0m\u001b[1;34m'g'\u001b[0m\u001b[1;33m)\u001b[0m\u001b[1;33m\u001b[0m\u001b[1;33m\u001b[0m\u001b[0m\n\u001b[0;32m      4\u001b[0m \u001b[0mplt\u001b[0m\u001b[1;33m.\u001b[0m\u001b[0mshow\u001b[0m\u001b[1;33m(\u001b[0m\u001b[1;33m)\u001b[0m\u001b[1;33m\u001b[0m\u001b[1;33m\u001b[0m\u001b[0m\n",
      "\u001b[1;32m~\\anaconda3\\lib\\site-packages\\matplotlib\\pyplot.py\u001b[0m in \u001b[0;36mscatter\u001b[1;34m(x, y, s, c, marker, cmap, norm, vmin, vmax, alpha, linewidths, edgecolors, plotnonfinite, data, **kwargs)\u001b[0m\n\u001b[0;32m   2817\u001b[0m         \u001b[0mvmin\u001b[0m\u001b[1;33m=\u001b[0m\u001b[1;32mNone\u001b[0m\u001b[1;33m,\u001b[0m \u001b[0mvmax\u001b[0m\u001b[1;33m=\u001b[0m\u001b[1;32mNone\u001b[0m\u001b[1;33m,\u001b[0m \u001b[0malpha\u001b[0m\u001b[1;33m=\u001b[0m\u001b[1;32mNone\u001b[0m\u001b[1;33m,\u001b[0m \u001b[0mlinewidths\u001b[0m\u001b[1;33m=\u001b[0m\u001b[1;32mNone\u001b[0m\u001b[1;33m,\u001b[0m \u001b[1;33m*\u001b[0m\u001b[1;33m,\u001b[0m\u001b[1;33m\u001b[0m\u001b[1;33m\u001b[0m\u001b[0m\n\u001b[0;32m   2818\u001b[0m         edgecolors=None, plotnonfinite=False, data=None, **kwargs):\n\u001b[1;32m-> 2819\u001b[1;33m     __ret = gca().scatter(\n\u001b[0m\u001b[0;32m   2820\u001b[0m         \u001b[0mx\u001b[0m\u001b[1;33m,\u001b[0m \u001b[0my\u001b[0m\u001b[1;33m,\u001b[0m \u001b[0ms\u001b[0m\u001b[1;33m=\u001b[0m\u001b[0ms\u001b[0m\u001b[1;33m,\u001b[0m \u001b[0mc\u001b[0m\u001b[1;33m=\u001b[0m\u001b[0mc\u001b[0m\u001b[1;33m,\u001b[0m \u001b[0mmarker\u001b[0m\u001b[1;33m=\u001b[0m\u001b[0mmarker\u001b[0m\u001b[1;33m,\u001b[0m \u001b[0mcmap\u001b[0m\u001b[1;33m=\u001b[0m\u001b[0mcmap\u001b[0m\u001b[1;33m,\u001b[0m \u001b[0mnorm\u001b[0m\u001b[1;33m=\u001b[0m\u001b[0mnorm\u001b[0m\u001b[1;33m,\u001b[0m\u001b[1;33m\u001b[0m\u001b[1;33m\u001b[0m\u001b[0m\n\u001b[0;32m   2821\u001b[0m         \u001b[0mvmin\u001b[0m\u001b[1;33m=\u001b[0m\u001b[0mvmin\u001b[0m\u001b[1;33m,\u001b[0m \u001b[0mvmax\u001b[0m\u001b[1;33m=\u001b[0m\u001b[0mvmax\u001b[0m\u001b[1;33m,\u001b[0m \u001b[0malpha\u001b[0m\u001b[1;33m=\u001b[0m\u001b[0malpha\u001b[0m\u001b[1;33m,\u001b[0m \u001b[0mlinewidths\u001b[0m\u001b[1;33m=\u001b[0m\u001b[0mlinewidths\u001b[0m\u001b[1;33m,\u001b[0m\u001b[1;33m\u001b[0m\u001b[1;33m\u001b[0m\u001b[0m\n",
      "\u001b[1;32m~\\anaconda3\\lib\\site-packages\\matplotlib\\__init__.py\u001b[0m in \u001b[0;36minner\u001b[1;34m(ax, data, *args, **kwargs)\u001b[0m\n\u001b[0;32m   1410\u001b[0m     \u001b[1;32mdef\u001b[0m \u001b[0minner\u001b[0m\u001b[1;33m(\u001b[0m\u001b[0max\u001b[0m\u001b[1;33m,\u001b[0m \u001b[1;33m*\u001b[0m\u001b[0margs\u001b[0m\u001b[1;33m,\u001b[0m \u001b[0mdata\u001b[0m\u001b[1;33m=\u001b[0m\u001b[1;32mNone\u001b[0m\u001b[1;33m,\u001b[0m \u001b[1;33m**\u001b[0m\u001b[0mkwargs\u001b[0m\u001b[1;33m)\u001b[0m\u001b[1;33m:\u001b[0m\u001b[1;33m\u001b[0m\u001b[1;33m\u001b[0m\u001b[0m\n\u001b[0;32m   1411\u001b[0m         \u001b[1;32mif\u001b[0m \u001b[0mdata\u001b[0m \u001b[1;32mis\u001b[0m \u001b[1;32mNone\u001b[0m\u001b[1;33m:\u001b[0m\u001b[1;33m\u001b[0m\u001b[1;33m\u001b[0m\u001b[0m\n\u001b[1;32m-> 1412\u001b[1;33m             \u001b[1;32mreturn\u001b[0m \u001b[0mfunc\u001b[0m\u001b[1;33m(\u001b[0m\u001b[0max\u001b[0m\u001b[1;33m,\u001b[0m \u001b[1;33m*\u001b[0m\u001b[0mmap\u001b[0m\u001b[1;33m(\u001b[0m\u001b[0msanitize_sequence\u001b[0m\u001b[1;33m,\u001b[0m \u001b[0margs\u001b[0m\u001b[1;33m)\u001b[0m\u001b[1;33m,\u001b[0m \u001b[1;33m**\u001b[0m\u001b[0mkwargs\u001b[0m\u001b[1;33m)\u001b[0m\u001b[1;33m\u001b[0m\u001b[1;33m\u001b[0m\u001b[0m\n\u001b[0m\u001b[0;32m   1413\u001b[0m \u001b[1;33m\u001b[0m\u001b[0m\n\u001b[0;32m   1414\u001b[0m         \u001b[0mbound\u001b[0m \u001b[1;33m=\u001b[0m \u001b[0mnew_sig\u001b[0m\u001b[1;33m.\u001b[0m\u001b[0mbind\u001b[0m\u001b[1;33m(\u001b[0m\u001b[0max\u001b[0m\u001b[1;33m,\u001b[0m \u001b[1;33m*\u001b[0m\u001b[0margs\u001b[0m\u001b[1;33m,\u001b[0m \u001b[1;33m**\u001b[0m\u001b[0mkwargs\u001b[0m\u001b[1;33m)\u001b[0m\u001b[1;33m\u001b[0m\u001b[1;33m\u001b[0m\u001b[0m\n",
      "\u001b[1;32m~\\anaconda3\\lib\\site-packages\\matplotlib\\axes\\_axes.py\u001b[0m in \u001b[0;36mscatter\u001b[1;34m(self, x, y, s, c, marker, cmap, norm, vmin, vmax, alpha, linewidths, edgecolors, plotnonfinite, **kwargs)\u001b[0m\n\u001b[0;32m   4360\u001b[0m         \u001b[0my\u001b[0m \u001b[1;33m=\u001b[0m \u001b[0mnp\u001b[0m\u001b[1;33m.\u001b[0m\u001b[0mma\u001b[0m\u001b[1;33m.\u001b[0m\u001b[0mravel\u001b[0m\u001b[1;33m(\u001b[0m\u001b[0my\u001b[0m\u001b[1;33m)\u001b[0m\u001b[1;33m\u001b[0m\u001b[1;33m\u001b[0m\u001b[0m\n\u001b[0;32m   4361\u001b[0m         \u001b[1;32mif\u001b[0m \u001b[0mx\u001b[0m\u001b[1;33m.\u001b[0m\u001b[0msize\u001b[0m \u001b[1;33m!=\u001b[0m \u001b[0my\u001b[0m\u001b[1;33m.\u001b[0m\u001b[0msize\u001b[0m\u001b[1;33m:\u001b[0m\u001b[1;33m\u001b[0m\u001b[1;33m\u001b[0m\u001b[0m\n\u001b[1;32m-> 4362\u001b[1;33m             \u001b[1;32mraise\u001b[0m \u001b[0mValueError\u001b[0m\u001b[1;33m(\u001b[0m\u001b[1;34m\"x and y must be the same size\"\u001b[0m\u001b[1;33m)\u001b[0m\u001b[1;33m\u001b[0m\u001b[1;33m\u001b[0m\u001b[0m\n\u001b[0m\u001b[0;32m   4363\u001b[0m \u001b[1;33m\u001b[0m\u001b[0m\n\u001b[0;32m   4364\u001b[0m         \u001b[1;32mif\u001b[0m \u001b[0ms\u001b[0m \u001b[1;32mis\u001b[0m \u001b[1;32mNone\u001b[0m\u001b[1;33m:\u001b[0m\u001b[1;33m\u001b[0m\u001b[1;33m\u001b[0m\u001b[0m\n",
      "\u001b[1;31mValueError\u001b[0m: x and y must be the same size"
     ]
    },
    {
     "data": {
      "image/png": "[encoded data removed]",
      "text/plain": [
       "<Figure size 640x480 with 1 Axes>"
      ]
     },
     "metadata": {},
     "output_type": "display_data"
    }
   ],
   "source": [
    "y_pred=d_reg.predict(x_test_sc)\n",
    "plt.scatter(x_test_sc,y_test,color='r')\n",
    "plt.plot(x_test_sc,y_pred,color='g')\n",
    "plt.show()"
   ]
  },
  {
   "cell_type": "code",
   "execution_count": 69,
   "id": "54f82955",
   "metadata": {},
   "outputs": [],
   "source": [
    "def msef ( y , yp):\n",
    "    s=0\n",
    "    y=y.tolist()\n",
    "    yp=yp.tolist()\n",
    "    subtraction =[]\n",
    "    squares=[]\n",
    "    \n",
    "    for i in range(len(y)):\n",
    "        result =y[i] -yp[i]\n",
    "        subtraction.append(result)\n",
    "    for i in  subtraction :    \n",
    "        output= subtraction[i]**2\n",
    "        squares.append(output)  \n",
    "    for i in  squares :\n",
    "        s=s+squares[i]\n",
    "    return (s/len(y))    "
   ]
  },
  {
   "cell_type": "code",
   "execution_count": 71,
   "id": "26b30b50",
   "metadata": {},
   "outputs": [
    {
     "ename": "NameError",
     "evalue": "name 'y_pred' is not defined",
     "output_type": "error",
     "traceback": [
      "\u001b[1;31m---------------------------------------------------------------------------\u001b[0m",
      "\u001b[1;31mNameError\u001b[0m                                 Traceback (most recent call last)",
      "\u001b[1;32m~\\AppData\\Local\\Temp\\ipykernel_22132\\3610902861.py\u001b[0m in \u001b[0;36m<module>\u001b[1;34m\u001b[0m\n\u001b[1;32m----> 1\u001b[1;33m \u001b[0mmsef\u001b[0m \u001b[1;33m(\u001b[0m \u001b[0my_test\u001b[0m \u001b[1;33m,\u001b[0m \u001b[0my_pred\u001b[0m\u001b[1;33m)\u001b[0m\u001b[1;33m\u001b[0m\u001b[1;33m\u001b[0m\u001b[0m\n\u001b[0m",
      "\u001b[1;31mNameError\u001b[0m: name 'y_pred' is not defined"
     ]
    }
   ],
   "source": [
    "msef ( y_test , y_pred)"
   ]
  },
  {
   "cell_type": "code",
   "execution_count": null,
   "id": "4cc5f378",
   "metadata": {},
   "outputs": [],
   "source": []
  }
 ],
 "metadata": {
  "kernelspec": {
   "display_name": "Python 3 (ipykernel)",
   "language": "python",
   "name": "python3"
  },
  "language_info": {
   "codemirror_mode": {
    "name": "ipython",
    "version": 3
   },
   "file_extension": ".py",
   "mimetype": "text/x-python",
   "name": "python",
   "nbconvert_exporter": "python",
   "pygments_lexer": "ipython3",
   "version": "3.9.13"
  }
 },
 "nbformat": 4,
 "nbformat_minor": 5
}
